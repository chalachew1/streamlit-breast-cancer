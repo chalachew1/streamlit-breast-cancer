{
 "cells": [
  {
   "cell_type": "markdown",
   "id": "29f86ac7",
   "metadata": {},
   "source": [
    "# 📊 Streamlit Setup & App Deployment Guide"
   ]
  },
  {
   "cell_type": "markdown",
   "id": "11259f03",
   "metadata": {},
   "source": [
    "\n",
    "This notebook will guide you through:\n",
    "- Creating a Python virtual environment using Anaconda\n",
    "- Installing dependencies\n",
    "- Creating a Streamlit app (`app.py`)\n",
    "- Running and testing the app locally\n"
   ]
  },
  {
   "cell_type": "markdown",
   "id": "53db410d",
   "metadata": {},
   "source": [
    "## ✅ Step 1: Create a Virtual Environment"
   ]
  },
  {
   "cell_type": "code",
   "execution_count": null,
   "id": "a65af937",
   "metadata": {},
   "outputs": [],
   "source": [
    "\n",
    "# In Anaconda Prompt (not Jupyter), run this:\n",
    "conda create -n streamlit-env python=3.10 -y\n",
    "conda activate streamlit-env\n"
   ]
  },
  {
   "cell_type": "markdown",
   "id": "e13875cb",
   "metadata": {},
   "source": [
    "## ✅ Step 2: Install Required Libraries"
   ]
  },
  {
   "cell_type": "code",
   "execution_count": null,
   "id": "99ee2b47",
   "metadata": {},
   "outputs": [],
   "source": [
    "\n",
    "pip install streamlit pandas matplotlib\n"
   ]
  },
  {
   "cell_type": "markdown",
   "id": "32883557",
   "metadata": {},
   "source": [
    "## ✅ Step 3: Set Up Project Folder Structure"
   ]
  },
  {
   "cell_type": "code",
   "execution_count": null,
   "id": "e5ec2f1a",
   "metadata": {},
   "outputs": [],
   "source": [
    "\n",
    "# Project Structure:\n",
    "# Streamlit_testing/\n",
    "# ├── app.py                # Your Streamlit app file\n",
    "# ├── breast_cancer.csv     # Dataset file\n",
    "# └── requirements.txt      # Optional: pip freeze > requirements.txt\n"
   ]
  },
  {
   "cell_type": "markdown",
   "id": "250c6208",
   "metadata": {},
   "source": [
    "## ✅ Step 4: Create `app.py` File"
   ]
  },
  {
   "cell_type": "code",
   "execution_count": null,
   "id": "3dae7b70",
   "metadata": {},
   "outputs": [],
   "source": [
    "\n",
    "# Use a text editor or VS Code to paste the Streamlit code.\n",
    "# Here's a simple example:\n",
    "\n",
    "streamlit_code = \"\"\" \n",
    "import pandas as pd\n",
    "import streamlit as st\n",
    "import matplotlib.pyplot as plt\n",
    "\n",
    "df = pd.read_csv(\"breast_cancer.csv\")\n",
    "df = df.dropna()\n",
    "df[\"diagnosis\"] = df[\"diagnosis\"].str.strip().str.upper()\n",
    "\n",
    "st.title(\"Breast Cancer Dashboard\")\n",
    "st.write(df.describe())\n",
    "\n",
    "st.subheader(\"Diagnosis Count\")\n",
    "st.bar_chart(df[\"diagnosis\"].value_counts())\n",
    "\"\"\"\n",
    "\n",
    "with open(\"app.py\", \"w\") as f:\n",
    "    f.write(streamlit_code)\n"
   ]
  },
  {
   "cell_type": "markdown",
   "id": "7e658bc6",
   "metadata": {},
   "source": [
    "## ✅ Step 5: Run Your Streamlit App"
   ]
  },
  {
   "cell_type": "code",
   "execution_count": null,
   "id": "dab44b5b",
   "metadata": {},
   "outputs": [],
   "source": [
    "\n",
    "# In terminal (in project folder):\n",
    "streamlit run app.py\n"
   ]
  }
 ],
 "metadata": {
  "kernelspec": {
   "display_name": "Python 3 (ipykernel)",
   "language": "python",
   "name": "python3"
  },
  "language_info": {
   "codemirror_mode": {
    "name": "ipython",
    "version": 3
   },
   "file_extension": ".py",
   "mimetype": "text/x-python",
   "name": "python",
   "nbconvert_exporter": "python",
   "pygments_lexer": "ipython3",
   "version": "3.9.12"
  }
 },
 "nbformat": 4,
 "nbformat_minor": 5
}
